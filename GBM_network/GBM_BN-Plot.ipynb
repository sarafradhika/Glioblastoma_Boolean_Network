{
 "cells": [
  {
   "cell_type": "code",
   "execution_count": 1,
   "metadata": {},
   "outputs": [],
   "source": [
    "import numpy as np\n",
    "import matplotlib.pyplot as plt\n",
    "import pandas as pd\n",
    "import itertools"
   ]
  },
  {
   "cell_type": "code",
   "execution_count": 2,
   "metadata": {},
   "outputs": [],
   "source": [
    "N = 100\n",
    "filename = ['BNRanking_GBM.csv','BNRankingPairs_GBM.csv','BNRankingTriples_GBM.csv']"
   ]
  },
  {
   "cell_type": "code",
   "execution_count": 3,
   "metadata": {},
   "outputs": [],
   "source": [
    "def BNPLOT(filename,N):\n",
    "\n",
    "    BN = pd.read_csv(filename,index_col=0)\n",
    "\n",
    "    X = BN['fault']\n",
    "    Y = BN['ConvexSum']\n",
    "    X = X[0:N]\n",
    "    Y = Y[0:N]\n",
    "\n",
    "    plt.figure(figsize=(20,10))\n",
    "    plt.bar(X,Y)\n",
    "    plt.xticks(rotation= 'vertical')\n",
    "    plt.show()"
   ]
  },
  {
   "cell_type": "code",
   "execution_count": 4,
   "metadata": {
    "scrolled": false
   },
   "outputs": [],
   "source": [
    "# for i in filename:\n",
    "#     BNPLOT(i,N)"
   ]
  },
  {
   "cell_type": "code",
   "execution_count": null,
   "metadata": {},
   "outputs": [],
   "source": []
  },
  {
   "cell_type": "code",
   "execution_count": null,
   "metadata": {},
   "outputs": [],
   "source": []
  },
  {
   "cell_type": "code",
   "execution_count": null,
   "metadata": {},
   "outputs": [],
   "source": []
  },
  {
   "cell_type": "code",
   "execution_count": null,
   "metadata": {},
   "outputs": [],
   "source": [
    "CDV = pd.read_csv('CELLLINES_DRUGS_AUC_GBM.csv')\n",
    "CDV = CDV.sort_values(by='Name',ascending=True)\n",
    "CDV.index = CDV['Name']\n",
    "CDV = CDV.drop(['NODRUG'])\n",
    "Drugs = CDV.index\n",
    "\n",
    "CDV = CDV.T\n",
    "CDV = CDV.drop(['Name'])\n",
    "\n",
    "for DRUG in Drugs:\n",
    "    print(DRUG)\n",
    "    PLOT(CDV,DRUG)\n",
    "    \n",
    "#     filename = 'GDSC_cellline_sensitivity_Drug/'+DRUG+'.csv'\n",
    "#     GDSC_sens = pd.read_csv(filename)\n",
    "#     GDSC_sens = GDSC_sens.sort_values(by='Cell line name',ascending=True)\n",
    "#     GDSC_sens.index = GDSC_sens['Cell line name']\n",
    "#     GDSC_sens = GDSC_sens.drop(columns=['Cell line name','Drug name','Drug Id','Cosmic sample Id','TCGA classification','Tissue','Tissue sub-type','Unnamed: 0','Unnamed: 13','Unnamed: 14','RMSE','Z score','Max conc','Dataset version','IC50'])\n",
    "#     print(CDV[DRUG])\n",
    "#     print(GDSC_sens)"
   ]
  }
 ],
 "metadata": {
  "kernelspec": {
   "display_name": "Python 3",
   "language": "python",
   "name": "python3"
  },
  "language_info": {
   "codemirror_mode": {
    "name": "ipython",
    "version": 3
   },
   "file_extension": ".py",
   "mimetype": "text/x-python",
   "name": "python",
   "nbconvert_exporter": "python",
   "pygments_lexer": "ipython3",
   "version": "3.7.3"
  }
 },
 "nbformat": 4,
 "nbformat_minor": 4
}
